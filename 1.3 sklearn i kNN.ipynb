{
 "cells": [
  {
   "cell_type": "code",
   "execution_count": null,
   "id": "c06b6465",
   "metadata": {},
   "outputs": [],
   "source": [
    "import pandas as pd\n",
    "import numpy as np\n",
    "from sklearn.model_selection import train_test_split\n",
    "from sklearn.metrics import accuracy_score\n",
    "import matplotlib.pyplot as plt\n",
    "\n",
    "df = pd.read_csv('heart.csv')"
   ]
  },
  {
   "cell_type": "code",
   "execution_count": null,
   "id": "a5439cdb",
   "metadata": {},
   "outputs": [],
   "source": [
    "df"
   ]
  },
  {
   "cell_type": "code",
   "execution_count": null,
   "id": "9b0feec1",
   "metadata": {},
   "outputs": [],
   "source": [
    "data = np.asarray(df)\n",
    "\n",
    "#w tym miejscu dzielimy dane na dane i etykiety, czyli wszystko poza ostatnią kolumną to dane i są \n",
    "#zapisane do X, natomiast ostatnia kolumna to etykiety i ją przepisujemy do zmiennej y.\n",
    "\n",
    "X = data[:,:-1]\n",
    "y =  data[:,-1]"
   ]
  },
  {
   "cell_type": "code",
   "execution_count": null,
   "id": "e27196cd",
   "metadata": {},
   "outputs": [],
   "source": [
    "from sklearn.neighbors import KNeighborsClassifier\n",
    "\n",
    "X_train, X_test, y_train, y_test = train_test_split(X, y, train_size= 0.8, random_state=42)\n",
    "\n",
    "#wykorzystujemy wbudowany w sklearn moduł, który dzieli dane na dane treningowe i testowe"
   ]
  },
  {
   "cell_type": "code",
   "execution_count": null,
   "id": "2678cc00",
   "metadata": {},
   "outputs": [],
   "source": [
    "model = KNeighborsClassifier(n_neighbors=1) #tworzymy klasyfikator kNN wykorzystujący jednego sąsiada\n",
    "\n",
    "model.fit(X_train, y_train) #trenujemy model\n",
    "\n",
    "y_pred = model.predict(X_test) #wykorzystujemy stworzony model do predykcji na danych testowych"
   ]
  },
  {
   "cell_type": "code",
   "execution_count": null,
   "id": "99049fb1",
   "metadata": {},
   "outputs": [],
   "source": [
    "accuracy_score(y_test, y_pred) #wyznaczamy accuracy"
   ]
  }
 ],
 "metadata": {
  "kernelspec": {
   "display_name": "Python 3 (ipykernel)",
   "language": "python",
   "name": "python3"
  },
  "language_info": {
   "codemirror_mode": {
    "name": "ipython",
    "version": 3
   },
   "file_extension": ".py",
   "mimetype": "text/x-python",
   "name": "python",
   "nbconvert_exporter": "python",
   "pygments_lexer": "ipython3",
   "version": "3.9.7"
  }
 },
 "nbformat": 4,
 "nbformat_minor": 5
}
