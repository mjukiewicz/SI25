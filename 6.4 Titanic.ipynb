{
 "cells": [
  {
   "cell_type": "code",
   "execution_count": null,
   "id": "4f8feab7",
   "metadata": {},
   "outputs": [],
   "source": [
    "import numpy as np\n",
    "import matplotlib.pyplot as plt\n",
    "import tensorflow as tf\n",
    "import pandas as pd\n",
    "import os\n",
    "os.environ[\"KMP_DUPLICATE_LIB_OK\"]=\"TRUE\"\n",
    "os.environ['CUDA_VISIBLE_DEVICES'] = '-1'\n",
    "from tensorflow.keras.callbacks import EarlyStopping\n",
    "from tensorflow.keras.models import Sequential\n",
    "from tensorflow.keras.layers import Dense, Dropout\n",
    "from tensorflow.keras.layers import BatchNormalization\n",
    "from sklearn.model_selection import train_test_split\n",
    "from sklearn import preprocessing as p\n",
    "\n",
    "es = EarlyStopping(monitor = \"val_loss\", mode = \"min\", patience = 3)\n",
    "EPOCHS = 100\n",
    "\n",
    "df = pd.read_table('tested.csv', sep = ',')"
   ]
  },
  {
   "cell_type": "code",
   "execution_count": null,
   "id": "15abf556",
   "metadata": {},
   "outputs": [],
   "source": [
    "#wyświetl df"
   ]
  },
  {
   "cell_type": "code",
   "execution_count": null,
   "id": "07b3d885",
   "metadata": {},
   "outputs": [],
   "source": [
    "#wyświelt podsumowanie df za pomocą describe. Co jest alarmujące?\n",
    "df.describe()"
   ]
  },
  {
   "cell_type": "code",
   "execution_count": null,
   "id": "f03daf20",
   "metadata": {},
   "outputs": [],
   "source": [
    "#wyrzuć z df te kolumny, które prawdopodobnie nic nie wnoszą"
   ]
  },
  {
   "cell_type": "code",
   "execution_count": null,
   "id": "589001a4",
   "metadata": {},
   "outputs": [],
   "source": [
    "#wyświetl df"
   ]
  },
  {
   "cell_type": "code",
   "execution_count": null,
   "id": "350da223",
   "metadata": {},
   "outputs": [],
   "source": [
    "#użyj one-hot encoding na danych nominalnych"
   ]
  },
  {
   "cell_type": "code",
   "execution_count": null,
   "id": "1246de0d",
   "metadata": {},
   "outputs": [],
   "source": [
    "#wyświetl df"
   ]
  },
  {
   "cell_type": "code",
   "execution_count": null,
   "id": "9dcdd8be",
   "metadata": {},
   "outputs": [],
   "source": [
    "#usuń nadmiarowe kolumny"
   ]
  },
  {
   "cell_type": "code",
   "execution_count": null,
   "id": "2121acd6",
   "metadata": {},
   "outputs": [],
   "source": [
    "#wyświetl df"
   ]
  },
  {
   "cell_type": "code",
   "execution_count": null,
   "id": "439352fd",
   "metadata": {},
   "outputs": [],
   "source": [
    "#wypełnij braki danych w kolumne Age za pomocą sredniej wartości z tej kolumny\n",
    "\n",
    "mean_value = df[\"Age\"].mean()\n",
    "df = df.fillna(mean_value)"
   ]
  },
  {
   "cell_type": "code",
   "execution_count": null,
   "id": "0ced5205",
   "metadata": {},
   "outputs": [],
   "source": [
    "#skalujemy do wartości 0-1 tylko wybrane kolumny. W tej komórce nie musisz nic robić\n",
    "cols_to_scale = ['Pclass','Age','Fare']\n",
    "\n",
    "scaler = p.StandardScaler().fit(df[cols_to_scale])\n",
    "\n",
    "df[cols_to_scale] = scaler.transform(df[cols_to_scale])"
   ]
  },
  {
   "cell_type": "code",
   "execution_count": null,
   "id": "471e9239",
   "metadata": {},
   "outputs": [],
   "source": [
    "#wyświelt df"
   ]
  },
  {
   "cell_type": "code",
   "execution_count": null,
   "id": "e9c774e3",
   "metadata": {},
   "outputs": [],
   "source": [
    "#podział df na dane i labele \n",
    "X = df[['Pclass', 'Age', 'SibSp', 'Parch', 'Fare', 'Sex_female', 'Embarked_C', 'Embarked_Q']]\n",
    "y = df[['Survived']]"
   ]
  },
  {
   "cell_type": "code",
   "execution_count": null,
   "id": "83c8be8d",
   "metadata": {},
   "outputs": [],
   "source": [
    "#podziel X i y na zbiory uczące i testowe za pomocą train_test_split\n",
    "\n",
    "x_train = tf.convert_to_tensor(x_train, dtype=tf.float32)\n",
    "x_test = tf.convert_to_tensor(x_test, dtype=tf.float32)"
   ]
  },
  {
   "cell_type": "code",
   "execution_count": null,
   "id": "615eb252",
   "metadata": {},
   "outputs": [],
   "source": [
    "#zbuduj modej sieci. W tym przypadku ostatnia warstwa powinna mieć jeden neuron i sigmoidalną funkcję aktywacji"
   ]
  },
  {
   "cell_type": "code",
   "execution_count": null,
   "id": "00744691",
   "metadata": {},
   "outputs": [],
   "source": [
    "#binary_crossentropy bo mamy tylko jeden neuron z sigmoidalną funkcją aktywacji\n",
    "model.compile(loss = \"binary_crossentropy\", optimizer = 'adam', metrics=[\"accuracy\"])"
   ]
  },
  {
   "cell_type": "code",
   "execution_count": null,
   "id": "5d25fff5",
   "metadata": {},
   "outputs": [],
   "source": [
    "#naucz sieć"
   ]
  },
  {
   "cell_type": "code",
   "execution_count": null,
   "id": "f9826d1d",
   "metadata": {},
   "outputs": [],
   "source": [
    "#wyświetl wykresy uczenia"
   ]
  }
 ],
 "metadata": {
  "kernelspec": {
   "display_name": "Python 3 (ipykernel)",
   "language": "python",
   "name": "python3"
  },
  "language_info": {
   "codemirror_mode": {
    "name": "ipython",
    "version": 3
   },
   "file_extension": ".py",
   "mimetype": "text/x-python",
   "name": "python",
   "nbconvert_exporter": "python",
   "pygments_lexer": "ipython3",
   "version": "3.9.7"
  }
 },
 "nbformat": 4,
 "nbformat_minor": 5
}
