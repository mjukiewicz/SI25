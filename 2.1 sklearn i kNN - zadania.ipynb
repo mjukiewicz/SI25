{
 "cells": [
  {
   "cell_type": "code",
   "execution_count": 1,
   "id": "c06b6465",
   "metadata": {},
   "outputs": [],
   "source": [
    "import pandas as pd\n",
    "import numpy as np\n",
    "from sklearn.model_selection import train_test_split\n",
    "from sklearn.metrics import accuracy_score\n",
    "import matplotlib.pyplot as plt\n",
    "\n",
    "df = pd.read_csv('heart.csv')"
   ]
  },
  {
   "cell_type": "code",
   "execution_count": null,
   "id": "a5439cdb",
   "metadata": {},
   "outputs": [],
   "source": [
    "df"
   ]
  },
  {
   "cell_type": "code",
   "execution_count": null,
   "id": "9b0feec1",
   "metadata": {},
   "outputs": [],
   "source": [
    "data = np.asarray(df)\n",
    "\n",
    "X = data[:,:-1]\n",
    "y =  data[:,-1]"
   ]
  },
  {
   "cell_type": "code",
   "execution_count": null,
   "id": "e27196cd",
   "metadata": {},
   "outputs": [],
   "source": [
    "#podziel dane z wykorzystaniem test_size= 0.2 i stałego random_state\n",
    "#przygotuj klasyfikator z użyciem KNeighborsClassifier i n_neighbors = 1\n",
    "#wyświetl accuracy\n",
    "\n"
   ]
  },
  {
   "cell_type": "code",
   "execution_count": null,
   "id": "d8a5a018",
   "metadata": {},
   "outputs": [],
   "source": [
    "#stwórz funkcję classification. Jej zawartość można skopiować \n",
    "#z  notatników z poprzednich zajęć, ale w taki sposób, aby przyjmowała \n",
    "#liczbę sąsiadów jako argument\n",
    "def classification(X,y, liczba_sasiadow):\n",
    "    ###"
   ]
  },
  {
   "cell_type": "code",
   "execution_count": null,
   "id": "e087256a",
   "metadata": {},
   "outputs": [],
   "source": [
    "results = []\n",
    "n_neighbors = [i for i in range(1,50)]\n",
    "for neighbor in n_neighbors:\n",
    "    results.append(classification(X,y, neighbor))         "
   ]
  },
  {
   "cell_type": "code",
   "execution_count": null,
   "id": "b174bdb2",
   "metadata": {},
   "outputs": [],
   "source": [
    "plt.plot(results)\n",
    "plt.xlabel(\"number of neighbors\")\n",
    "plt.ylabel(\"accuracy\")"
   ]
  },
  {
   "cell_type": "code",
   "execution_count": null,
   "id": "cb968e5a",
   "metadata": {},
   "outputs": [],
   "source": [
    "results = []\n",
    "n_neighbors = [i for i in range(1,50,2)]\n",
    "for neighbor in n_neighbors:\n",
    "    results.append(clasification(X,y, neighbor))"
   ]
  },
  {
   "cell_type": "code",
   "execution_count": null,
   "id": "eaaceebd",
   "metadata": {},
   "outputs": [],
   "source": [
    "plt.plot(results)\n",
    "plt.xlabel(\"number of neighbors\")\n",
    "plt.ylabel(\"accuracy\")"
   ]
  },
  {
   "cell_type": "code",
   "execution_count": null,
   "id": "38d6d4f9",
   "metadata": {},
   "outputs": [],
   "source": []
  }
 ],
 "metadata": {
  "kernelspec": {
   "display_name": "Python 3 (ipykernel)",
   "language": "python",
   "name": "python3"
  },
  "language_info": {
   "codemirror_mode": {
    "name": "ipython",
    "version": 3
   },
   "file_extension": ".py",
   "mimetype": "text/x-python",
   "name": "python",
   "nbconvert_exporter": "python",
   "pygments_lexer": "ipython3",
   "version": "3.9.7"
  }
 },
 "nbformat": 4,
 "nbformat_minor": 5
}
