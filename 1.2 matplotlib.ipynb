{
 "cells": [
  {
   "cell_type": "markdown",
   "id": "7aa32d92",
   "metadata": {},
   "source": [
    "# 1. Wczytywanie pliku"
   ]
  },
  {
   "cell_type": "code",
   "execution_count": null,
   "id": "18a1bae3",
   "metadata": {},
   "outputs": [],
   "source": [
    "import pandas as pd\n",
    "\n",
    "df = pd.read_csv('StudentsPerformance.csv')"
   ]
  },
  {
   "cell_type": "markdown",
   "id": "874a0d1c",
   "metadata": {},
   "source": [
    "# 2. Podgląd całości"
   ]
  },
  {
   "cell_type": "code",
   "execution_count": null,
   "id": "0a4dcf2e",
   "metadata": {},
   "outputs": [],
   "source": [
    "df"
   ]
  },
  {
   "cell_type": "markdown",
   "id": "5ce6a23d",
   "metadata": {},
   "source": [
    "# 3. Prosty wykres"
   ]
  },
  {
   "cell_type": "code",
   "execution_count": null,
   "id": "4cc39ff6",
   "metadata": {},
   "outputs": [],
   "source": [
    "import matplotlib.pyplot as plt\n",
    "plt.plot(df['math score'])"
   ]
  },
  {
   "cell_type": "markdown",
   "id": "94043997",
   "metadata": {},
   "source": [
    "# 4. Wykres z podpisanymi osiami"
   ]
  },
  {
   "cell_type": "code",
   "execution_count": null,
   "id": "3500a1cb",
   "metadata": {},
   "outputs": [],
   "source": [
    "plt.plot(df['math score'])\n",
    "plt.xlabel(\"Sample\")\n",
    "plt.ylabel(\"Test score [-]\")"
   ]
  },
  {
   "cell_type": "markdown",
   "id": "381cc1f9",
   "metadata": {},
   "source": [
    "# 5. Legenda"
   ]
  },
  {
   "cell_type": "code",
   "execution_count": null,
   "id": "bb5621f9",
   "metadata": {},
   "outputs": [],
   "source": [
    "plt.plot(df['math score'])\n",
    "plt.plot(df['reading score'])\n",
    "plt.plot(df['writing score'])\n",
    "plt.xlabel(\"Sample\")\n",
    "plt.ylabel(\"Test score\")"
   ]
  },
  {
   "cell_type": "code",
   "execution_count": null,
   "id": "5a0256e0",
   "metadata": {},
   "outputs": [],
   "source": [
    "plt.plot(df['math score'], label = \"math\")\n",
    "plt.plot(df['reading score'], label = \"reading\")\n",
    "plt.plot(df['writing score'], label = \"writing\")\n",
    "plt.xlabel(\"Sample\")\n",
    "plt.ylabel(\"Test score\")\n",
    "plt.legend()"
   ]
  },
  {
   "cell_type": "markdown",
   "id": "015edf69",
   "metadata": {},
   "source": [
    "# 6. To samo z wykresem punktowym"
   ]
  },
  {
   "cell_type": "code",
   "execution_count": null,
   "id": "a37edc74",
   "metadata": {},
   "outputs": [],
   "source": [
    "plt.plot(df['math score'], \"b*\", label = \"math\")\n",
    "plt.plot(df['reading score'], \"r^\", label = \"reading\")\n",
    "plt.plot(df['writing score'], \"g.\", label = \"writing\")\n",
    "plt.xlabel(\"Sample\")\n",
    "plt.ylabel(\"Test score\")\n",
    "plt.legend()"
   ]
  },
  {
   "cell_type": "markdown",
   "id": "6d24078b",
   "metadata": {},
   "source": [
    "# 7. Polecenie subplot"
   ]
  },
  {
   "cell_type": "code",
   "execution_count": null,
   "id": "2a046a73",
   "metadata": {},
   "outputs": [],
   "source": [
    "plt.subplot(3,1,1)\n",
    "plt.plot(df['math score'], \"bo\", label = \"math\")\n",
    "plt.ylabel(\"Test score\")\n",
    "plt.subplot(3,1,2)\n",
    "plt.plot(df['reading score'], \"ro\", label = \"reading\")\n",
    "plt.ylabel(\"Test score\")\n",
    "plt.subplot(3,1,3)\n",
    "plt.plot(df['writing score'], \"go\", label = \"writing\")\n",
    "plt.xlabel(\"Sample\")\n",
    "plt.ylabel(\"Test score\")\n",
    "plt.legend()"
   ]
  },
  {
   "cell_type": "markdown",
   "id": "36a3d100",
   "metadata": {},
   "source": [
    "# 8. Zapisanie pliku graficznego"
   ]
  },
  {
   "cell_type": "code",
   "execution_count": null,
   "id": "7d00b14b",
   "metadata": {},
   "outputs": [],
   "source": [
    "plt.savefig('costam.png')"
   ]
  },
  {
   "cell_type": "markdown",
   "id": "9106d147",
   "metadata": {},
   "source": [
    "# 9. Histogram"
   ]
  },
  {
   "cell_type": "code",
   "execution_count": null,
   "id": "5e5d7e26",
   "metadata": {},
   "outputs": [],
   "source": [
    "plt.hist(df[\"math score\"])\n",
    "plt.xlabel(\"Test score\")\n",
    "plt.ylabel(\"Frequency\")"
   ]
  }
 ],
 "metadata": {
  "kernelspec": {
   "display_name": "Python 3 (ipykernel)",
   "language": "python",
   "name": "python3"
  },
  "language_info": {
   "codemirror_mode": {
    "name": "ipython",
    "version": 3
   },
   "file_extension": ".py",
   "mimetype": "text/x-python",
   "name": "python",
   "nbconvert_exporter": "python",
   "pygments_lexer": "ipython3",
   "version": "3.9.7"
  }
 },
 "nbformat": 4,
 "nbformat_minor": 5
}
