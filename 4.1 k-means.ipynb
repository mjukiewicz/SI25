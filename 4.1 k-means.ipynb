{
 "cells": [
  {
   "cell_type": "code",
   "execution_count": null,
   "id": "6fe94e69",
   "metadata": {},
   "outputs": [],
   "source": [
    "import pandas as pd\n",
    "\n",
    "df = pd.read_csv('Mall_Customers.csv')"
   ]
  },
  {
   "cell_type": "code",
   "execution_count": null,
   "id": "ccce53f6",
   "metadata": {},
   "outputs": [],
   "source": [
    "df"
   ]
  },
  {
   "cell_type": "code",
   "execution_count": null,
   "id": "aed05d68",
   "metadata": {},
   "outputs": [],
   "source": [
    "#do dalszej analizy bierzemy tylko kolumny od Age włącznie\n",
    "X_train = df.iloc[:,2:]"
   ]
  },
  {
   "cell_type": "code",
   "execution_count": null,
   "id": "5c1bf0d9",
   "metadata": {},
   "outputs": [],
   "source": [
    "import matplotlib.pyplot as plt\n",
    "#%matplotlib notebook\n",
    "\n",
    "fig = plt.figure()\n",
    "ax = fig.add_subplot(projection='3d')\n",
    "\n",
    "ax.scatter(df[\"Age\"], df[\"Annual Income (k$)\"], df[\"Spending Score (1-100)\"])\n",
    "ax.set_xlabel('Age')\n",
    "ax.set_ylabel('Annual Income')\n",
    "ax.set_zlabel('Spending Score')"
   ]
  },
  {
   "cell_type": "code",
   "execution_count": null,
   "id": "9aa6acbe",
   "metadata": {},
   "outputs": [],
   "source": [
    "#klasteryzacja za pomocą K-means i 4 klastrami\n",
    "from sklearn.cluster import KMeans\n",
    "\n",
    "kmeans = KMeans(n_clusters=4)\n",
    "model = kmeans.fit(X_train)\n",
    "labels = model.predict(X_train)"
   ]
  },
  {
   "cell_type": "code",
   "execution_count": null,
   "id": "63081c3e",
   "metadata": {},
   "outputs": [],
   "source": [
    "fig = plt.figure()\n",
    "ax = fig.add_subplot(projection='3d')\n",
    "\n",
    "ax.scatter(df[\"Age\"], df[\"Annual Income (k$)\"], df[\"Spending Score (1-100)\"], c=labels)\n",
    "\n",
    "ax.set_xlabel('Age')\n",
    "ax.set_ylabel('Annual Income')\n",
    "ax.set_zlabel('Spending Score')"
   ]
  },
  {
   "cell_type": "code",
   "execution_count": null,
   "id": "428d2eba",
   "metadata": {},
   "outputs": [],
   "source": [
    "#zrób to samo dla 7 klastrów i wyświetl wykres"
   ]
  },
  {
   "cell_type": "code",
   "execution_count": null,
   "id": "4742d01e",
   "metadata": {},
   "outputs": [],
   "source": []
  }
 ],
 "metadata": {
  "kernelspec": {
   "display_name": "Python 3 (ipykernel)",
   "language": "python",
   "name": "python3"
  },
  "language_info": {
   "codemirror_mode": {
    "name": "ipython",
    "version": 3
   },
   "file_extension": ".py",
   "mimetype": "text/x-python",
   "name": "python",
   "nbconvert_exporter": "python",
   "pygments_lexer": "ipython3",
   "version": "3.9.7"
  }
 },
 "nbformat": 4,
 "nbformat_minor": 5
}
