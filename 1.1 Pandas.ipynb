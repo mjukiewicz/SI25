{
 "cells": [
  {
   "cell_type": "markdown",
   "id": "590efdbb",
   "metadata": {},
   "source": [
    "# 1. Wczytywanie pliku"
   ]
  },
  {
   "cell_type": "code",
   "execution_count": null,
   "id": "ba3d7f61",
   "metadata": {},
   "outputs": [],
   "source": [
    "import pandas as pd\n",
    "\n",
    "df = pd.read_csv('StudentsPerformance.csv')"
   ]
  },
  {
   "cell_type": "markdown",
   "id": "749b3551",
   "metadata": {},
   "source": [
    "# 2. Podgląd całości pliku"
   ]
  },
  {
   "cell_type": "code",
   "execution_count": null,
   "id": "aa316471",
   "metadata": {},
   "outputs": [],
   "source": [
    "df"
   ]
  },
  {
   "cell_type": "markdown",
   "id": "5c5f6d99",
   "metadata": {},
   "source": [
    "# 3. Podsumowanie danych"
   ]
  },
  {
   "cell_type": "code",
   "execution_count": null,
   "id": "84fd45ee",
   "metadata": {},
   "outputs": [],
   "source": [
    "df.describe()"
   ]
  },
  {
   "cell_type": "markdown",
   "id": "4d04df94",
   "metadata": {},
   "source": [
    "# 4. Podsumowanie jednej kolumny"
   ]
  },
  {
   "cell_type": "code",
   "execution_count": null,
   "id": "7bf56e7c",
   "metadata": {},
   "outputs": [],
   "source": [
    "df['gender'].value_counts()"
   ]
  },
  {
   "cell_type": "markdown",
   "id": "177059e3",
   "metadata": {},
   "source": [
    "# 5. Wyświeltanie nazw kolumn (i przechowywanie)"
   ]
  },
  {
   "cell_type": "code",
   "execution_count": null,
   "id": "35c738fd",
   "metadata": {},
   "outputs": [],
   "source": [
    "columns = df.columns\n",
    "columns"
   ]
  },
  {
   "cell_type": "markdown",
   "id": "255043ba",
   "metadata": {},
   "source": [
    "# 6. Sortowanie"
   ]
  },
  {
   "cell_type": "code",
   "execution_count": null,
   "id": "b3c8e2b2",
   "metadata": {},
   "outputs": [],
   "source": [
    "df.sort_values([\"math score\"])"
   ]
  },
  {
   "cell_type": "code",
   "execution_count": null,
   "id": "c54735e9",
   "metadata": {},
   "outputs": [],
   "source": [
    "new_df=df.sort_values([\"math score\", \"writing score\"])"
   ]
  },
  {
   "cell_type": "code",
   "execution_count": null,
   "id": "a80c903b",
   "metadata": {},
   "outputs": [],
   "source": [
    "new_df"
   ]
  },
  {
   "cell_type": "markdown",
   "id": "bb56e50a",
   "metadata": {},
   "source": [
    "# 7. Tworzenie nowej kolumny"
   ]
  },
  {
   "cell_type": "code",
   "execution_count": null,
   "id": "d9f17ac4",
   "metadata": {},
   "outputs": [],
   "source": [
    "df['Total score'] = 0"
   ]
  },
  {
   "cell_type": "code",
   "execution_count": null,
   "id": "fc5c8843",
   "metadata": {},
   "outputs": [],
   "source": [
    "df"
   ]
  },
  {
   "cell_type": "markdown",
   "id": "90c7ae73",
   "metadata": {},
   "source": [
    "# 8. Sumowanie elementów"
   ]
  },
  {
   "cell_type": "code",
   "execution_count": null,
   "id": "200dd5aa",
   "metadata": {},
   "outputs": [],
   "source": [
    "df['Total score'] = df.iloc[:, 5:8].sum(axis=1)"
   ]
  },
  {
   "cell_type": "code",
   "execution_count": null,
   "id": "e4ee32aa",
   "metadata": {},
   "outputs": [],
   "source": [
    "df"
   ]
  },
  {
   "cell_type": "markdown",
   "id": "3fc1b083",
   "metadata": {},
   "source": [
    "# 9. Usuwanie kolumn (i wierszy)"
   ]
  },
  {
   "cell_type": "code",
   "execution_count": null,
   "id": "c84cd2f7",
   "metadata": {},
   "outputs": [],
   "source": [
    "df=df.drop(['Total score'], axis = 1)"
   ]
  },
  {
   "cell_type": "code",
   "execution_count": null,
   "id": "10a241dd",
   "metadata": {},
   "outputs": [],
   "source": [
    "df"
   ]
  }
 ],
 "metadata": {
  "kernelspec": {
   "display_name": "Python 3 (ipykernel)",
   "language": "python",
   "name": "python3"
  },
  "language_info": {
   "codemirror_mode": {
    "name": "ipython",
    "version": 3
   },
   "file_extension": ".py",
   "mimetype": "text/x-python",
   "name": "python",
   "nbconvert_exporter": "python",
   "pygments_lexer": "ipython3",
   "version": "3.9.7"
  }
 },
 "nbformat": 4,
 "nbformat_minor": 5
}
