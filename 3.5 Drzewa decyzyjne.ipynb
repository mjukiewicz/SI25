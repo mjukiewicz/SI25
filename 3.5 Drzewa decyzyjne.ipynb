{
 "cells": [
  {
   "cell_type": "code",
   "execution_count": null,
   "id": "46156622",
   "metadata": {},
   "outputs": [],
   "source": [
    "#Wykorzystując zbiór danych z poprzednich zajeć stwórz model dla DecisionTreeClassifier \n",
    "#(bez żadnych argumentów) i sprawdź accuracy takiego modelu. W dokumentacji sprawdź jak\n",
    "#importować DecisionTreeClassifier. Następnie, sprawdź jak będzie zmieniała się wartość\n",
    "#accuracy, w zalezności od parametru \"max_depth\" (tak jak to robiliśmy np. w przypadku kNN\n",
    "#i sąsiadami lub SVM i kernelami)."
   ]
  },
  {
   "cell_type": "code",
   "execution_count": null,
   "id": "89ba8e98",
   "metadata": {},
   "outputs": [],
   "source": []
  }
 ],
 "metadata": {
  "kernelspec": {
   "display_name": "Python 3 (ipykernel)",
   "language": "python",
   "name": "python3"
  },
  "language_info": {
   "codemirror_mode": {
    "name": "ipython",
    "version": 3
   },
   "file_extension": ".py",
   "mimetype": "text/x-python",
   "name": "python",
   "nbconvert_exporter": "python",
   "pygments_lexer": "ipython3",
   "version": "3.9.7"
  }
 },
 "nbformat": 4,
 "nbformat_minor": 5
}
