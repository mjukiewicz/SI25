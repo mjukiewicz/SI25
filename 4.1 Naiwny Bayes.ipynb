{
 "cells": [
  {
   "cell_type": "code",
   "execution_count": null,
   "id": "ddbc684c",
   "metadata": {},
   "outputs": [],
   "source": [
    "import pandas as pd\n",
    "from sklearn.model_selection import train_test_split\n",
    "from sklearn.naive_bayes import GaussianNB\n",
    "from sklearn.metrics import accuracy_score\n",
    "import numpy as np\n",
    "import matplotlib.pyplot as plt\n",
    "\n",
    "df = pd.read_csv('lending_club_loan_dataset.csv')\n",
    "\n",
    "df.drop([\"id\",\"purpose\",\"term\", \"last_major_derog_none\"], axis=1, inplace=True)\n",
    "df['home_ownership'] = df.home_ownership.map({'OWN':0, 'MORTGAGE':1, \"RENT\":2})\n",
    "df['grade'] = df.grade.map({'A':0, 'B':1, \"C\":2, \"D\":3, \"E\":4})\n",
    "df['grade'] = df['grade'].fillna(-1)\n",
    "df['dti'] = df['dti'].fillna(-1)\n",
    "df['home_ownership'] = df['home_ownership'].fillna(-1)\n",
    "df['annual_inc'] /= 1000"
   ]
  },
  {
   "cell_type": "code",
   "execution_count": null,
   "id": "6d05c53f",
   "metadata": {},
   "outputs": [],
   "source": [
    "data = np.asarray(df)\n",
    "\n",
    "X = data[:,:-1]\n",
    "y =  data[:,-1]\n",
    "\n",
    "X_train, X_test, y_train, y_test = train_test_split(X, y, test_size= 0.2, random_state=42)\n",
    "model = GaussianNB()\n",
    "model.fit(X_train, y_train)\n",
    "y_pred = model.predict(X_test)"
   ]
  },
  {
   "cell_type": "code",
   "execution_count": null,
   "id": "50b6fa55",
   "metadata": {},
   "outputs": [],
   "source": [
    "#Czy to jest dobry model?"
   ]
  }
 ],
 "metadata": {
  "kernelspec": {
   "display_name": "Python 3 (ipykernel)",
   "language": "python",
   "name": "python3"
  },
  "language_info": {
   "codemirror_mode": {
    "name": "ipython",
    "version": 3
   },
   "file_extension": ".py",
   "mimetype": "text/x-python",
   "name": "python",
   "nbconvert_exporter": "python",
   "pygments_lexer": "ipython3",
   "version": "3.9.7"
  }
 },
 "nbformat": 4,
 "nbformat_minor": 5
}
