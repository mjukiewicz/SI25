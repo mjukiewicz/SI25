{
 "cells": [
  {
   "cell_type": "code",
   "execution_count": 31,
   "id": "80c24d0d",
   "metadata": {},
   "outputs": [],
   "source": [
    "#wczytaj plik kc_house_data.csv\n",
    "import pandas as pd\n",
    "import numpy as np"
   ]
  },
  {
   "cell_type": "code",
   "execution_count": 32,
   "id": "b67aadc3",
   "metadata": {},
   "outputs": [],
   "source": [
    "#za pomocą polecenia drop usuń co najmniej kolumny \"id\" oraz \"date\""
   ]
  },
  {
   "cell_type": "code",
   "execution_count": 34,
   "id": "9f431d5c",
   "metadata": {},
   "outputs": [],
   "source": [
    "# 1. do zmiennej y przypisz zawartość kolumny price\n",
    "# 2. do zmiennej X przypisz zawartość wszystkich kolumn poza price, skorzystaj z polecenia drop"
   ]
  },
  {
   "cell_type": "code",
   "execution_count": 1,
   "id": "55e39617",
   "metadata": {},
   "outputs": [],
   "source": [
    "#podziel dana na treningowe i testowe, przyjmij train_size = 0.8\n",
    "from sklearn.model_selection import train_test_split"
   ]
  },
  {
   "cell_type": "code",
   "execution_count": null,
   "id": "7c5dfc03",
   "metadata": {},
   "outputs": [],
   "source": [
    "#zbuduj model, wytrenuj go, nastepnie wyświetl mse i mae"
   ]
  }
 ],
 "metadata": {
  "kernelspec": {
   "display_name": "Python 3 (ipykernel)",
   "language": "python",
   "name": "python3"
  },
  "language_info": {
   "codemirror_mode": {
    "name": "ipython",
    "version": 3
   },
   "file_extension": ".py",
   "mimetype": "text/x-python",
   "name": "python",
   "nbconvert_exporter": "python",
   "pygments_lexer": "ipython3",
   "version": "3.9.7"
  }
 },
 "nbformat": 4,
 "nbformat_minor": 5
}
