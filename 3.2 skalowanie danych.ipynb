{
 "cells": [
  {
   "cell_type": "code",
   "execution_count": null,
   "id": "c06b6465",
   "metadata": {},
   "outputs": [],
   "source": [
    "import pandas as pd\n",
    "from sklearn.model_selection import train_test_split\n",
    "from sklearn.svm import SVC\n",
    "from sklearn.metrics import accuracy_score\n",
    "import numpy as np\n",
    "import matplotlib.pyplot as plt\n",
    "\n",
    "df = pd.read_csv('heart.csv')"
   ]
  },
  {
   "cell_type": "code",
   "execution_count": null,
   "id": "9b0feec1",
   "metadata": {},
   "outputs": [],
   "source": [
    "data = np.asarray(df)\n",
    "\n",
    "X = data[:,:-1]\n",
    "y =  data[:,-1]"
   ]
  },
  {
   "cell_type": "code",
   "execution_count": null,
   "id": "f02b00f1",
   "metadata": {},
   "outputs": [],
   "source": [
    "def clasification(X,y, random_state):\n",
    "    X_train, X_test, y_train, y_test = train_test_split(X, y, test_size= 0.2, random_state=random_state)\n",
    "    model = SVC(kernel = 'poly', C = 1)\n",
    "    model.fit(X_train, y_train)\n",
    "    y_pred = model.predict(X_test)\n",
    "    y_pred_train = model.predict(X_train)\n",
    "    return accuracy_score(y_train, y_pred_train), accuracy_score(y_test, y_pred)\n",
    "\n",
    "results_train = []\n",
    "results_test = []\n",
    "for i in range(2,50):\n",
    "    results = clasification(X,y, i)\n",
    "    results_train.append(results[0])\n",
    "    results_test.append(results[1])\n",
    "    \n",
    "plt.plot(results_train, label=\"traning\")\n",
    "plt.plot(results_test, label=\"test\")\n",
    "plt.xlabel(\"iteration\")\n",
    "plt.ylabel(\"accuracy\")\n",
    "plt.legend()"
   ]
  },
  {
   "cell_type": "code",
   "execution_count": null,
   "id": "c5ad5bbd",
   "metadata": {},
   "outputs": [],
   "source": [
    "from sklearn import preprocessing as p\n",
    "data_ss = p.StandardScaler().fit_transform(X)\n",
    "data_ss"
   ]
  },
  {
   "cell_type": "code",
   "execution_count": null,
   "id": "de4b6e72",
   "metadata": {},
   "outputs": [],
   "source": [
    "def clasification(X,y, random_state):\n",
    "    X_train, X_test, y_train, y_test = train_test_split(X, y, test_size= 0.2, random_state=random_state)\n",
    "    model = SVC(kernel = 'poly', C = 1)\n",
    "    model.fit(X_train, y_train)\n",
    "    y_pred = model.predict(X_test)\n",
    "    y_pred_train = model.predict(X_train)\n",
    "    return accuracy_score(y_train, y_pred_train), accuracy_score(y_test, y_pred)\n",
    "\n",
    "results_train = []\n",
    "results_test = []\n",
    "for i in range(2,50):\n",
    "    results = clasification(data_ss,y, i)\n",
    "    results_train.append(results[0])\n",
    "    results_test.append(results[1])\n",
    "\n",
    "plt.plot(results_train, label=\"traning\")\n",
    "plt.plot(results_test, label=\"test\")\n",
    "plt.xlabel(\"iteration\")\n",
    "plt.ylabel(\"accuracy\")\n",
    "plt.legend()"
   ]
  },
  {
   "cell_type": "code",
   "execution_count": null,
   "id": "63cc6de5",
   "metadata": {},
   "outputs": [],
   "source": [
    "data_mm = p.MinMaxScaler().fit_transform(X)\n",
    "data_mm"
   ]
  },
  {
   "cell_type": "code",
   "execution_count": null,
   "id": "46a578ab",
   "metadata": {},
   "outputs": [],
   "source": [
    "def clasification(X,y, random_state):\n",
    "    X_train, X_test, y_train, y_test = train_test_split(X, y, test_size= 0.2, random_state=random_state)\n",
    "    model = SVC(kernel = 'poly', C = 1)\n",
    "    model.fit(X_train, y_train)\n",
    "    y_pred = model.predict(X_test)\n",
    "    y_pred_train = model.predict(X_train)\n",
    "    return accuracy_score(y_train, y_pred_train), accuracy_score(y_test, y_pred)\n",
    "\n",
    "results_train = []\n",
    "results_test = []\n",
    "for i in range(2,50):\n",
    "    results = clasification(data_mm,y, i)\n",
    "    results_train.append(results[0])\n",
    "    results_test.append(results[1])\n",
    "    \n",
    "plt.plot(results_train, label=\"traning\")\n",
    "plt.plot(results_test, label=\"test\")\n",
    "plt.xlabel(\"iteration\")\n",
    "plt.ylabel(\"accuracy\")\n",
    "plt.legend()"
   ]
  }
 ],
 "metadata": {
  "kernelspec": {
   "display_name": "Python 3 (ipykernel)",
   "language": "python",
   "name": "python3"
  },
  "language_info": {
   "codemirror_mode": {
    "name": "ipython",
    "version": 3
   },
   "file_extension": ".py",
   "mimetype": "text/x-python",
   "name": "python",
   "nbconvert_exporter": "python",
   "pygments_lexer": "ipython3",
   "version": "3.9.7"
  }
 },
 "nbformat": 4,
 "nbformat_minor": 5
}
