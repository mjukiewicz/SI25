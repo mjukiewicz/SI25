{
 "cells": [
  {
   "cell_type": "code",
   "execution_count": 14,
   "id": "d5074bd2",
   "metadata": {},
   "outputs": [],
   "source": [
    "import os\n",
    "import warnings\n",
    "warnings.filterwarnings('ignore')\n",
    "os.environ[\"KMP_DUPLICATE_LIB_OK\"]=\"TRUE\"\n",
    "os.environ[\"TF_CPP_MIN_LOG_LEVEL\"] = \"3\"\n",
    "os.environ['CUDA_VISIBLE_DEVICES'] = '-1'\n",
    "import tensorflow as tf\n",
    "from tensorflow.keras.datasets import mnist\n",
    "from tensorflow.keras.models import Sequential\n",
    "from tensorflow.keras.layers import Dense, Flatten\n",
    "from tensorflow.keras.regularizers import l2\n",
    "import matplotlib.pyplot as plt\n",
    "\n",
    "\n",
    "# Wczytaj zbiór MNIST i znormalizuj dane (jak na poprzednich zajęciach)\n",
    "# Stwórz dwa modele. Każdy z nich powinien mieć dwie warstwy ukryte o 64 neuronach. \n",
    "# Różnica polega na dodaniu w jednym z modeli argumentu do każdej warstwy ukrytej (Dense) -\n",
    "# kernel_regularizer=l2(0.001).\n",
    "# Wytrenuj oba modele\n",
    "# Stórz wykresy porównujące val_acc i acc obu modeli"
   ]
  }
 ],
 "metadata": {
  "kernelspec": {
   "display_name": "Python 3 (ipykernel)",
   "language": "python",
   "name": "python3"
  },
  "language_info": {
   "codemirror_mode": {
    "name": "ipython",
    "version": 3
   },
   "file_extension": ".py",
   "mimetype": "text/x-python",
   "name": "python",
   "nbconvert_exporter": "python",
   "pygments_lexer": "ipython3",
   "version": "3.9.7"
  }
 },
 "nbformat": 4,
 "nbformat_minor": 5
}
