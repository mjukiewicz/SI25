{
 "cells": [
  {
   "cell_type": "code",
   "execution_count": null,
   "id": "6fe94e69",
   "metadata": {},
   "outputs": [],
   "source": [
    "import pandas as pd\n",
    "import matplotlib.pyplot as plt\n",
    "from sklearn.cluster import KMeans\n",
    "\n",
    "# wczytaj 'Mall_Customers.csv'"
   ]
  },
  {
   "cell_type": "code",
   "execution_count": null,
   "id": "2dd470a5",
   "metadata": {},
   "outputs": [],
   "source": [
    "#1. zrób one-hot encoding na kolumnie Genre\n",
    "temp = pd.get_dummies(df.Genre, prefix='is')\n",
    "#2. dodaj do df nową kolumnę \"is_male\"\n",
    "df['Is male']=temp['is_Male']\n",
    "#3. usuń niepotrzebne kolumny z df\n",
    "df = df.drop([\"Genre\", \"CustomerID\"], axis =1)"
   ]
  },
  {
   "cell_type": "code",
   "execution_count": null,
   "id": "8cee88bb",
   "metadata": {},
   "outputs": [],
   "source": [
    "# sprawdzenie silhouette_score dla różnej liczby klastrów\n",
    "\n",
    "from sklearn.metrics import silhouette_score\n",
    "\n",
    "def get_kmeans_score(data, k):\n",
    "    kmeans = KMeans(n_clusters=k)\n",
    "    model = kmeans.fit(data)\n",
    "    return silhouette_score(data, model.labels_, metric='euclidean')\n",
    "\n",
    "results = []\n",
    "k_list = list(range(2,21))\n",
    "\n",
    "for k in k_list:\n",
    "    results.append(get_kmeans_score(df, k))\n",
    "\n",
    "plt.bar(k_list, results, color='b')\n",
    "plt.xlabel('numer of clusters')\n",
    "plt.ylabel('silhouette score')\n",
    "plt.show()\n"
   ]
  },
  {
   "cell_type": "code",
   "execution_count": null,
   "id": "db65f6a5",
   "metadata": {},
   "outputs": [],
   "source": [
    "from sklearn.cluster import KMeans\n",
    "\n",
    "X_train = df\n",
    "\n",
    "kmeans = KMeans(n_clusters=)\n",
    "model = kmeans.fit(X_train)\n",
    "labels = model.predict(X_train)\n",
    "\n",
    "\n",
    "fig = plt.figure()\n",
    "ax = fig.add_subplot(projection='3d')\n",
    "\n",
    "ax.scatter(df[\"Age\"], df[\"Annual Income (k$)\"], df[\"Spending Score (1-100)\"], c=labels)\n",
    "\n",
    "ax.set_xlabel('Age')\n",
    "ax.set_ylabel('Annual Income')\n",
    "ax.set_zlabel('Spending Score')"
   ]
  },
  {
   "cell_type": "code",
   "execution_count": null,
   "id": "f05385e8",
   "metadata": {},
   "outputs": [],
   "source": [
    "#Teraz policz to samo dla metody łokciowej. \n",
    "#Funkcja wygląda tak samo, poza jedną różnicą: return abs(model.score(data)) "
   ]
  },
  {
   "cell_type": "code",
   "execution_count": null,
   "id": "69ea0394",
   "metadata": {},
   "outputs": [],
   "source": [
    "#wyświetl wykres 3D dla wybranej (wyznaczonej) liczby klastrów"
   ]
  },
  {
   "cell_type": "code",
   "execution_count": null,
   "id": "5aa73486",
   "metadata": {},
   "outputs": [],
   "source": []
  }
 ],
 "metadata": {
  "kernelspec": {
   "display_name": "Python 3 (ipykernel)",
   "language": "python",
   "name": "python3"
  },
  "language_info": {
   "codemirror_mode": {
    "name": "ipython",
    "version": 3
   },
   "file_extension": ".py",
   "mimetype": "text/x-python",
   "name": "python",
   "nbconvert_exporter": "python",
   "pygments_lexer": "ipython3",
   "version": "3.9.7"
  }
 },
 "nbformat": 4,
 "nbformat_minor": 5
}
