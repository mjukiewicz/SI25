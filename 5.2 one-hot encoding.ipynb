{
 "cells": [
  {
   "cell_type": "code",
   "execution_count": null,
   "id": "6fe94e69",
   "metadata": {},
   "outputs": [],
   "source": [
    "import pandas as pd\n",
    "import numpy as np\n",
    "import matplotlib.pyplot as plt\n",
    "\n",
    "# wczytaj 'Mall_Customers.csv'"
   ]
  },
  {
   "cell_type": "code",
   "execution_count": null,
   "id": "203680f2",
   "metadata": {},
   "outputs": [],
   "source": [
    "df"
   ]
  },
  {
   "cell_type": "code",
   "execution_count": null,
   "id": "87f0e826",
   "metadata": {},
   "outputs": [],
   "source": [
    "#stworzenie nowego dataframe, który \"rozpisuje\" na za 0 i 1 dane z kolumny Genre. \n",
    "#Sprawdź, co sie stanie, jeśli usuniemy prefix.\n",
    "temp = pd.get_dummies(df.Genre, prefix='is')"
   ]
  },
  {
   "cell_type": "code",
   "execution_count": null,
   "id": "998ae898",
   "metadata": {},
   "outputs": [],
   "source": [
    "temp"
   ]
  },
  {
   "cell_type": "code",
   "execution_count": null,
   "id": "86dbecc1",
   "metadata": {},
   "outputs": [],
   "source": [
    "#dołącznie nowych kolumn do bazowego dataframe\n",
    "df['Is Female']=temp['is_Female']"
   ]
  },
  {
   "cell_type": "code",
   "execution_count": null,
   "id": "aad3326a",
   "metadata": {},
   "outputs": [],
   "source": [
    "df"
   ]
  },
  {
   "cell_type": "code",
   "execution_count": null,
   "id": "efef9e67",
   "metadata": {},
   "outputs": [],
   "source": [
    "#usuniecie niepotrzebnej/nadmiarowej kolumny\n",
    "df = df.drop([\"Genre\"], axis =1)"
   ]
  },
  {
   "cell_type": "code",
   "execution_count": null,
   "id": "54a40842",
   "metadata": {},
   "outputs": [],
   "source": [
    "df"
   ]
  }
 ],
 "metadata": {
  "kernelspec": {
   "display_name": "Python 3 (ipykernel)",
   "language": "python",
   "name": "python3"
  },
  "language_info": {
   "codemirror_mode": {
    "name": "ipython",
    "version": 3
   },
   "file_extension": ".py",
   "mimetype": "text/x-python",
   "name": "python",
   "nbconvert_exporter": "python",
   "pygments_lexer": "ipython3",
   "version": "3.9.7"
  }
 },
 "nbformat": 4,
 "nbformat_minor": 5
}
