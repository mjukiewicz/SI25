{
 "cells": [
  {
   "cell_type": "code",
   "execution_count": null,
   "id": "eb4c0653",
   "metadata": {},
   "outputs": [],
   "source": [
    "#Powtórz to wszystko co dziś robiliśmy, tym razem dla zbioru Iris. Sprawdź wszystkie trzy algorytmy.\n",
    "#Na końcu wyświelt wykres 3D\n",
    "#Ile jest klas w zbiorze, a na ile klastrów powinno podzielić się zbiór wg wyznaczonych miar?"
   ]
  }
 ],
 "metadata": {
  "kernelspec": {
   "display_name": "Python 3 (ipykernel)",
   "language": "python",
   "name": "python3"
  },
  "language_info": {
   "codemirror_mode": {
    "name": "ipython",
    "version": 3
   },
   "file_extension": ".py",
   "mimetype": "text/x-python",
   "name": "python",
   "nbconvert_exporter": "python",
   "pygments_lexer": "ipython3",
   "version": "3.9.7"
  }
 },
 "nbformat": 4,
 "nbformat_minor": 5
}
