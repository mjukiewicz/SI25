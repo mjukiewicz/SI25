{
 "cells": [
  {
   "cell_type": "code",
   "execution_count": null,
   "id": "ed5a564c",
   "metadata": {},
   "outputs": [],
   "source": [
    "import numpy as np\n",
    "import matplotlib.pyplot as plt\n",
    "from sklearn.datasets import load_digits\n",
    "from sklearn.decomposition import PCA"
   ]
  },
  {
   "cell_type": "code",
   "execution_count": null,
   "id": "ffbf1b4c",
   "metadata": {},
   "outputs": [],
   "source": [
    "#załadowanie zbioru digits\n",
    "digits = load_digits()\n",
    "X = digits.data\n",
    "y = digits.target"
   ]
  },
  {
   "cell_type": "code",
   "execution_count": null,
   "id": "473e4160",
   "metadata": {},
   "outputs": [],
   "source": [
    "#wyświetlenie pojedyńczego elementu ze zbioru, w tym przypadku o indeksie 0\n",
    "sample_image = digits.images[0]\n",
    "\n",
    "plt.imshow(sample_image, cmap='gray')\n",
    "plt.title(f'Klasa: {digits.target[0]}', fontsize = 8)\n",
    "plt.axis(\"off\")"
   ]
  },
  {
   "cell_type": "code",
   "execution_count": null,
   "id": "59b90ec6",
   "metadata": {},
   "outputs": [],
   "source": [
    "#wykorzystując pętlę for i polecenie subplot wyświetl 25 elementów zbioru w 5 kolumnach i 5 wierszach\n",
    "for i in range(25):\n",
    "    plt.subplot(5,5,i+1)\n",
    "    plt.imshow(digits.images[i], cmap='gray')\n",
    "    plt.title(f'Klasa: {digits.target[i]}', fontsize = 8)\n",
    "    plt.axis(\"off\")\n",
    "    "
   ]
  },
  {
   "cell_type": "code",
   "execution_count": null,
   "id": "b3430a9e",
   "metadata": {},
   "outputs": [],
   "source": [
    "#uruchomienie PCA\n",
    "pca = PCA()\n",
    "X_r = pca.fit(X).transform(X)"
   ]
  },
  {
   "cell_type": "code",
   "execution_count": null,
   "id": "251edf3b",
   "metadata": {},
   "outputs": [],
   "source": [
    "explained_variance = pca.explained_variance_ratio_\n",
    "print(\"Wyjaśniona wariancja:\\n\", explained_variance)"
   ]
  },
  {
   "cell_type": "code",
   "execution_count": null,
   "id": "a7e56c17",
   "metadata": {},
   "outputs": [],
   "source": [
    "#zsumuj listę explained_variance"
   ]
  },
  {
   "cell_type": "code",
   "execution_count": null,
   "id": "46c7c393",
   "metadata": {},
   "outputs": [],
   "source": [
    "x_axis_values = list(range(1,len(explained_variance)+1))\n",
    "plt.bar(x_axis_values, explained_variance)\n",
    "plt.xlabel(\"Liczba komponentów głównych\")\n",
    "plt.ylabel(\"Zachowana wariancja\")\n",
    "plt.show()"
   ]
  },
  {
   "cell_type": "code",
   "execution_count": null,
   "id": "93f78380",
   "metadata": {},
   "outputs": [],
   "source": []
  }
 ],
 "metadata": {
  "kernelspec": {
   "display_name": "Python 3 (ipykernel)",
   "language": "python",
   "name": "python3"
  },
  "language_info": {
   "codemirror_mode": {
    "name": "ipython",
    "version": 3
   },
   "file_extension": ".py",
   "mimetype": "text/x-python",
   "name": "python",
   "nbconvert_exporter": "python",
   "pygments_lexer": "ipython3",
   "version": "3.9.7"
  }
 },
 "nbformat": 4,
 "nbformat_minor": 5
}
