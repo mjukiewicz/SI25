{
 "cells": [
  {
   "cell_type": "code",
   "execution_count": null,
   "id": "1263d2f6",
   "metadata": {},
   "outputs": [],
   "source": [
    "import os\n",
    "import warnings\n",
    "warnings.filterwarnings('ignore')\n",
    "os.environ[\"KMP_DUPLICATE_LIB_OK\"]=\"TRUE\"\n",
    "os.environ[\"TF_CPP_MIN_LOG_LEVEL\"] = \"3\"\n",
    "os.environ['CUDA_VISIBLE_DEVICES'] = '-1'\n",
    "import numpy as np\n",
    "import matplotlib.pyplot as plt\n",
    "import tensorflow as tf\n",
    "import pandas as pd\n",
    "\n",
    "df = pd.read_csv('heart.csv')"
   ]
  },
  {
   "cell_type": "code",
   "execution_count": null,
   "id": "19ac6f34",
   "metadata": {},
   "outputs": [],
   "source": [
    "#wyświetl dane"
   ]
  },
  {
   "cell_type": "code",
   "execution_count": null,
   "id": "68206328",
   "metadata": {},
   "outputs": [],
   "source": [
    "from sklearn import preprocessing as p\n",
    "from sklearn.model_selection import train_test_split\n",
    "\n",
    "#standaryzuj dane (bez ostatniej kolumny!)\n",
    "#podziel dane na zbiór treningowy i walidacyjny"
   ]
  },
  {
   "cell_type": "code",
   "execution_count": null,
   "id": "3c84eb72",
   "metadata": {},
   "outputs": [],
   "source": [
    "from tensorflow.keras import Sequential\n",
    "from tensorflow.keras.layers import Input, Dense\n",
    "#pierwsza siec neuronowa\n",
    "model = Sequential([\n",
    "        Input(shape = (13)),\n",
    "        Dense(8, activation = 'relu'),\n",
    "        Dense(1)\n",
    "])"
   ]
  },
  {
   "cell_type": "code",
   "execution_count": null,
   "id": "7ceb79d3",
   "metadata": {},
   "outputs": [],
   "source": [
    "#podsumowanie budowy i wielkości modelu\n",
    "model.summary()"
   ]
  },
  {
   "cell_type": "code",
   "execution_count": null,
   "id": "51532193",
   "metadata": {},
   "outputs": [],
   "source": [
    "#kompilowanie modelu\n",
    "model.compile(optimizer='adam',\n",
    "              loss='binary_crossentropy',\n",
    "              metrics=['accuracy'])"
   ]
  },
  {
   "cell_type": "code",
   "execution_count": null,
   "id": "b064eea7",
   "metadata": {},
   "outputs": [],
   "source": [
    "#proces uczenia\n",
    "EPOCHS = 100\n",
    "\n",
    "history = model.fit(X_train, y_train, epochs = EPOCHS, validation_data=(X_val, y_val))"
   ]
  },
  {
   "cell_type": "code",
   "execution_count": null,
   "id": "2fd4ba57",
   "metadata": {},
   "outputs": [],
   "source": [
    "#zamiana wyników zapisanych w history na dataframe\n",
    "hist = pd.DataFrame(history.history)"
   ]
  },
  {
   "cell_type": "code",
   "execution_count": null,
   "id": "4891cc7a",
   "metadata": {},
   "outputs": [],
   "source": [
    "#wyświetl hist"
   ]
  },
  {
   "cell_type": "code",
   "execution_count": null,
   "id": "f1814a52",
   "metadata": {},
   "outputs": [],
   "source": [
    "#proces uczenia na wykresie\n",
    "plt.plot(hist.loss, label = \"loss\")\n",
    "plt.plot(hist.val_loss, label = \"val_loss\")\n",
    "plt.xlabel(\"epoch\")\n",
    "plt.ylabel(\"loss\")\n",
    "plt.legend()"
   ]
  },
  {
   "cell_type": "code",
   "execution_count": null,
   "id": "c2ebec04",
   "metadata": {},
   "outputs": [],
   "source": [
    "#za pomocą polecenia sublpot z lewej strony wyświetl loss, z prawej accuracy"
   ]
  },
  {
   "cell_type": "code",
   "execution_count": null,
   "id": "0761db5d",
   "metadata": {},
   "outputs": [],
   "source": [
    "#stwórz model o dwóch warstwach ukrytych (64 i 8). Nadaj modelowi i historii uczenia unikalną nazwę"
   ]
  },
  {
   "cell_type": "code",
   "execution_count": null,
   "id": "8e93560e",
   "metadata": {},
   "outputs": [],
   "source": [
    "#za pomocą polecenia sublpot z lewej strony wyświetl loss, z prawej accuracy"
   ]
  },
  {
   "cell_type": "code",
   "execution_count": null,
   "id": "24914411",
   "metadata": {},
   "outputs": [],
   "source": [
    "#stwórz model o dwóch warstwach ukrytych (8 i 4). Nadaj modelowi i historii uczenia unikalną nazwę"
   ]
  },
  {
   "cell_type": "code",
   "execution_count": null,
   "id": "ce6220b5",
   "metadata": {},
   "outputs": [],
   "source": [
    "#za pomocą polecenia sublpot z lewej strony wyświetl loss, z prawej accuracy"
   ]
  },
  {
   "cell_type": "code",
   "execution_count": null,
   "id": "0f2044b2",
   "metadata": {},
   "outputs": [],
   "source": [
    "#stwórz model o dwóch warstwach ukrytych (4 i 2). Nadaj modelowi i historii uczenia unikalną nazwę"
   ]
  },
  {
   "cell_type": "code",
   "execution_count": null,
   "id": "59be731e",
   "metadata": {},
   "outputs": [],
   "source": [
    "#za pomocą polecenia sublpot z lewej strony wyświetl loss, z prawej accuracy"
   ]
  },
  {
   "cell_type": "code",
   "execution_count": null,
   "id": "4c39999f",
   "metadata": {},
   "outputs": [],
   "source": [
    "#zamiast hist_small, hist, hist_big, hist_tiny wstaw swoje nazwy historii uczenia\n",
    "\n",
    "plt.plot(hist_small.val_loss, label = \"small\")\n",
    "plt.plot(hist.val_loss, label = \"base\")\n",
    "plt.plot(hist_big.val_loss, label = \"big\")\n",
    "plt.plot(hist_tiny.val_loss, label = \"tiny\")\n",
    "plt.xlabel(\"epoch\")\n",
    "plt.ylabel(\"loss\")\n",
    "plt.legend()"
   ]
  },
  {
   "cell_type": "code",
   "execution_count": null,
   "id": "3d11f668",
   "metadata": {},
   "outputs": [],
   "source": [
    "#zamiast hist_small, hist, hist_big, hist_tiny wstaw swoje nazwy historii uczenia\n",
    "plt.plot(hist_small.val_accuracy, label = \"small\")\n",
    "plt.plot(hist.val_accuracy, label = \"base\")\n",
    "plt.plot(hist_big.val_accuracy, label = \"big\")\n",
    "plt.plot(hist_tiny.val_accuracy, label = \"tiny\")\n",
    "plt.xlabel(\"epoch\")\n",
    "plt.ylabel(\"accuracy\")\n",
    "plt.legend()"
   ]
  },
  {
   "cell_type": "code",
   "execution_count": null,
   "id": "73d0c406",
   "metadata": {},
   "outputs": [],
   "source": []
  }
 ],
 "metadata": {
  "kernelspec": {
   "display_name": "Python 3 (ipykernel)",
   "language": "python",
   "name": "python3"
  },
  "language_info": {
   "codemirror_mode": {
    "name": "ipython",
    "version": 3
   },
   "file_extension": ".py",
   "mimetype": "text/x-python",
   "name": "python",
   "nbconvert_exporter": "python",
   "pygments_lexer": "ipython3",
   "version": "3.9.7"
  }
 },
 "nbformat": 4,
 "nbformat_minor": 5
}
