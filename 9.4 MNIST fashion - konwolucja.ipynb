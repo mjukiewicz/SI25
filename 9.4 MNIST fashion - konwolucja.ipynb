{
 "cells": [
  {
   "cell_type": "code",
   "execution_count": null,
   "id": "d3dc71b3",
   "metadata": {},
   "outputs": [],
   "source": [
    "# Przygotuj wszystko tak jak na zajęciach 7 i zadaniu o zbiorze MNIST. Różnicą będzie\n",
    "# wczytywannie pliku:\n",
    "    \n",
    "# (x_train, y_train), (x_test, y_test) = tf.keras.datasets.fashion_mnist.load_data()\n",
    "\n",
    "# oraz sieć:\n",
    "#from tensorflow.keras.layers import Conv2D, MaxPooling2D\n",
    "\n",
    "#model = Sequential()\n",
    "#model.add(Conv2D(filters = 4, kernel_size = (3, 3), activation='relu', input_shape=(28, 28, 1)))\n",
    "#model.add(MaxPooling2D((2, 2)))\n",
    "#model.add(Flatten())\n",
    "\n",
    "#model.add(Dense(10, activation='softmax'))\n",
    "\n",
    "# następnie dodając kolejne warstwy konwolucyjne lub warstwy ukryte spróbuj poprawić wynik \n",
    "# działania sieci"
   ]
  }
 ],
 "metadata": {
  "kernelspec": {
   "display_name": "Python 3 (ipykernel)",
   "language": "python",
   "name": "python3"
  },
  "language_info": {
   "codemirror_mode": {
    "name": "ipython",
    "version": 3
   },
   "file_extension": ".py",
   "mimetype": "text/x-python",
   "name": "python",
   "nbconvert_exporter": "python",
   "pygments_lexer": "ipython3",
   "version": "3.9.7"
  }
 },
 "nbformat": 4,
 "nbformat_minor": 5
}
