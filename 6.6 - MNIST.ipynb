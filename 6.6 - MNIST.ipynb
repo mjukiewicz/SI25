{
 "cells": [
  {
   "cell_type": "code",
   "execution_count": null,
   "id": "bf6f0cc5",
   "metadata": {},
   "outputs": [],
   "source": [
    "import numpy as np\n",
    "import matplotlib.pyplot as plt\n",
    "import tensorflow as tf\n",
    "import pandas as pd\n",
    "import os\n",
    "os.environ[\"KMP_DUPLICATE_LIB_OK\"]=\"TRUE\"\n",
    "os.environ['CUDA_VISIBLE_DEVICES'] = '-1'\n",
    "from tensorflow.keras.callbacks import EarlyStopping\n",
    "\n",
    "es = EarlyStopping(monitor = \"val_loss\", mode = \"min\", patience = 5)\n",
    "\n",
    "(x_train, y_train), (x_test, y_test) = tf.keras.datasets.mnist.load_data()\n",
    "EPOCHS = 20\n"
   ]
  },
  {
   "cell_type": "code",
   "execution_count": null,
   "id": "d9d740e4",
   "metadata": {},
   "outputs": [],
   "source": [
    "#czemu ta komórka jest istotna?\n",
    "x_train = x_train.astype('float32') / 255\n",
    "x_test = x_test.astype('float32') / 255"
   ]
  },
  {
   "cell_type": "code",
   "execution_count": null,
   "id": "74159197",
   "metadata": {},
   "outputs": [],
   "source": [
    "#stwórz sieć neuronową. Pierwsza warstwa już jest. Następnie dodaj warstwę Dense o 128 neuronach i funkcji aktywacji\n",
    "#relu. Ostatnia warstwa, też Dense, powinna mieć neuronów tyle ile jest klas w zbiorze y_train i funkcję aktywacji\n",
    "#softmax. Funkcja straty to tym razem 'sparse_categorical_crossentropy'\n",
    "\n",
    "from tensorflow.keras import Sequential\n",
    "from tensorflow.keras.layers import Flatten, Dense\n",
    "\n",
    "model = Sequential()\n",
    "model.add(Flatten(input_shape=(28,28)))\n",
    "#todo\n",
    "\n",
    "model.compile(optimizer='adam',\n",
    "              loss=#todo,\n",
    "              metrics=['accuracy'])\n",
    "model.summary()"
   ]
  },
  {
   "cell_type": "code",
   "execution_count": null,
   "id": "ea17b28f",
   "metadata": {},
   "outputs": [],
   "source": [
    "#uruchom uczenie sieci"
   ]
  },
  {
   "cell_type": "code",
   "execution_count": null,
   "id": "603d443c",
   "metadata": {},
   "outputs": [],
   "source": [
    "#przygotuj wykresy funkcji straty i skuteczności"
   ]
  },
  {
   "cell_type": "code",
   "execution_count": null,
   "id": "1ad4bfd4",
   "metadata": {},
   "outputs": [],
   "source": [
    "y_pred = model.predict(x_test)"
   ]
  },
  {
   "cell_type": "code",
   "execution_count": null,
   "id": "a60ad2e5",
   "metadata": {},
   "outputs": [],
   "source": [
    "plt.subplot(1,2,1)\n",
    "plt.imshow(x_test[0], cmap=\"gray\")\n",
    "plt.axis('off')\n",
    "plt.title(y_test[0])\n",
    "\n",
    "plt.subplot(1,2,2)\n",
    "plt.barh(np.arange(10), y_pred[0])\n",
    "plt.yticks(np.arange(10))\n",
    "print(y_pred[0])"
   ]
  },
  {
   "cell_type": "code",
   "execution_count": null,
   "id": "217f1c2a",
   "metadata": {},
   "outputs": [],
   "source": [
    "plt.figure(figsize=(10,10))\n",
    "\n",
    "for i in range(25):\n",
    "    plt.subplot(5,5,i+1)\n",
    "    plt.imshow(x_test[i], cmap='gray')\n",
    "    plt.axis('off')"
   ]
  },
  {
   "cell_type": "code",
   "execution_count": null,
   "id": "df1334d2",
   "metadata": {},
   "outputs": [],
   "source": [
    "plt.figure(figsize=(10,10))\n",
    "\n",
    "for i in range(25):\n",
    "    plt.subplot(5,5,i+1)\n",
    "    plt.imshow(x_test[i], cmap='gray')\n",
    "    plt.axis('off')\n",
    "    if np.argmax(y_pred[i]) == y_test[i]:\n",
    "        plt.title(y_test[i], color = 'green')\n",
    "    else:\n",
    "        plt.title(y_test[i], color = 'red')"
   ]
  },
  {
   "cell_type": "code",
   "execution_count": null,
   "id": "c0a309a6",
   "metadata": {},
   "outputs": [],
   "source": []
  }
 ],
 "metadata": {
  "kernelspec": {
   "display_name": "Python 3 (ipykernel)",
   "language": "python",
   "name": "python3"
  },
  "language_info": {
   "codemirror_mode": {
    "name": "ipython",
    "version": 3
   },
   "file_extension": ".py",
   "mimetype": "text/x-python",
   "name": "python",
   "nbconvert_exporter": "python",
   "pygments_lexer": "ipython3",
   "version": "3.9.7"
  }
 },
 "nbformat": 4,
 "nbformat_minor": 5
}
