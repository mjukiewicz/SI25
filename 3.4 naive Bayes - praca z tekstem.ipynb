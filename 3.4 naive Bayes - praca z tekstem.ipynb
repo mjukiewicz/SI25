{
 "cells": [
  {
   "cell_type": "code",
   "execution_count": null,
   "id": "80c24d0d",
   "metadata": {},
   "outputs": [],
   "source": [
    "#wczytaj plik SPAM text message 20170820 - Data.csv"
   ]
  },
  {
   "cell_type": "code",
   "execution_count": null,
   "id": "c0a5b21d",
   "metadata": {},
   "outputs": [],
   "source": [
    "#wyświetl zawartość pliku"
   ]
  },
  {
   "cell_type": "code",
   "execution_count": null,
   "id": "a12b7cfe",
   "metadata": {},
   "outputs": [],
   "source": [
    "#zamiana kategorii na 0 i 1 - postać zrozumiałą dla algorytmu\n",
    "\n",
    "df['Category'] = df.Category.map({'ham':0, 'spam':1})"
   ]
  },
  {
   "cell_type": "code",
   "execution_count": null,
   "id": "3832ce0e",
   "metadata": {},
   "outputs": [],
   "source": [
    "#wyświetl zawartość pliku"
   ]
  },
  {
   "cell_type": "code",
   "execution_count": null,
   "id": "36be2f34",
   "metadata": {},
   "outputs": [],
   "source": [
    "from sklearn.model_selection import train_test_split\n",
    "\n",
    "X_train, X_test, y_train, y_test = train_test_split(df['Message'], df['Category'], train_size = 0.8, random_state=1)"
   ]
  },
  {
   "cell_type": "code",
   "execution_count": null,
   "id": "903346dc",
   "metadata": {},
   "outputs": [],
   "source": [
    "from sklearn.feature_extraction.text import CountVectorizer\n",
    "\n",
    "count_vector = CountVectorizer()\n",
    "\n",
    "training_data = count_vector.fit_transform(X_train)\n",
    "\n",
    "testing_data = count_vector.transform(X_test)\n",
    "\n",
    "#CountVectorizer przelicza liczbę wystąpień każdego słowa w każdej wiadomości i tworzy macierz, w której \n",
    "#wiersze reprezentują wiadomości, a kolumny reprezentują słowa kluczowe. Wartości w macierzy wskazują, ile \n",
    "#razy dane słowo występuje w danej wiadomości."
   ]
  },
  {
   "cell_type": "code",
   "execution_count": null,
   "id": "67506d8f",
   "metadata": {},
   "outputs": [],
   "source": [
    "#sprawdzenie jak wiele jest \"jednostek\" w całym zbiorze\n",
    "len(training_data.toarray())"
   ]
  },
  {
   "cell_type": "code",
   "execution_count": null,
   "id": "da4bffcb",
   "metadata": {},
   "outputs": [],
   "source": [
    "#trening klasyfikatora\n",
    "from sklearn.naive_bayes import MultinomialNB\n",
    "naive_bayes = MultinomialNB()\n",
    "naive_bayes.fit(training_data,y_train)"
   ]
  },
  {
   "cell_type": "code",
   "execution_count": null,
   "id": "26b3212b",
   "metadata": {},
   "outputs": [],
   "source": [
    "#predykcja\n",
    "predictions = naive_bayes.predict(testing_data)"
   ]
  },
  {
   "cell_type": "code",
   "execution_count": null,
   "id": "adf85c52",
   "metadata": {},
   "outputs": [],
   "source": [
    "from sklearn.metrics import accuracy_score, precision_score, recall_score, f1_score\n",
    "print('Accuracy score: ', format(accuracy_score(y_test, predictions)))\n",
    "print('Precision score: ', format(precision_score(y_test, predictions)))\n",
    "print('Recall score: ', format(recall_score(y_test, predictions)))\n",
    "print('F1 score: ', format(f1_score(y_test, predictions)))"
   ]
  },
  {
   "cell_type": "code",
   "execution_count": null,
   "id": "4577ad34",
   "metadata": {},
   "outputs": [],
   "source": []
  }
 ],
 "metadata": {
  "kernelspec": {
   "display_name": "Python 3 (ipykernel)",
   "language": "python",
   "name": "python3"
  },
  "language_info": {
   "codemirror_mode": {
    "name": "ipython",
    "version": 3
   },
   "file_extension": ".py",
   "mimetype": "text/x-python",
   "name": "python",
   "nbconvert_exporter": "python",
   "pygments_lexer": "ipython3",
   "version": "3.9.7"
  }
 },
 "nbformat": 4,
 "nbformat_minor": 5
}
