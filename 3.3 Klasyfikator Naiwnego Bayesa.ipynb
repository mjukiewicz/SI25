{
 "cells": [
  {
   "cell_type": "code",
   "execution_count": null,
   "id": "46156622",
   "metadata": {},
   "outputs": [],
   "source": [
    "#Wykorzystując zbiór danych z poprzednich zajeć stwórz model dla GaussianNB \n",
    "#(bez żadnych argumentów) i sprawdź accuracy takiego modelu. W dokumentacji sprawdź jak\n",
    "#importować GaussianNB."
   ]
  },
  {
   "cell_type": "code",
   "execution_count": null,
   "id": "89ba8e98",
   "metadata": {},
   "outputs": [],
   "source": []
  }
 ],
 "metadata": {
  "kernelspec": {
   "display_name": "Python 3 (ipykernel)",
   "language": "python",
   "name": "python3"
  },
  "language_info": {
   "codemirror_mode": {
    "name": "ipython",
    "version": 3
   },
   "file_extension": ".py",
   "mimetype": "text/x-python",
   "name": "python",
   "nbconvert_exporter": "python",
   "pygments_lexer": "ipython3",
   "version": "3.9.7"
  }
 },
 "nbformat": 4,
 "nbformat_minor": 5
}
