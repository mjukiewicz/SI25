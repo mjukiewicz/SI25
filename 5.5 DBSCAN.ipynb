{
 "cells": [
  {
   "cell_type": "code",
   "execution_count": null,
   "id": "6fe94e69",
   "metadata": {},
   "outputs": [],
   "source": [
    "import pandas as pd\n",
    "import matplotlib.pyplot as plt\n",
    "from sklearn.cluster import AgglomerativeClustering\n",
    "from sklearn.metrics import silhouette_score\n",
    "\n",
    "# wczytaj 'Mall_Customers.csv'"
   ]
  },
  {
   "cell_type": "code",
   "execution_count": null,
   "id": "9f5a2683",
   "metadata": {},
   "outputs": [],
   "source": [
    "#1. zrób one-hot encoding na kolumnie Genre\n",
    "#2. dodaj do df nową kolumnę \"is_male\"\n",
    "#3. usuń niepotrzebne kolumny z df\n",
    "#4. zrób klasteryzację za pomocą DBSCAN dla DBSCAN(eps=0.4, min_samples=5)"
   ]
  },
  {
   "cell_type": "code",
   "execution_count": null,
   "id": "cdbe2391",
   "metadata": {},
   "outputs": [],
   "source": [
    "#Sprawdź wykres 3D"
   ]
  },
  {
   "cell_type": "code",
   "execution_count": null,
   "id": "0389f254",
   "metadata": {},
   "outputs": [],
   "source": []
  }
 ],
 "metadata": {
  "kernelspec": {
   "display_name": "Python 3 (ipykernel)",
   "language": "python",
   "name": "python3"
  },
  "language_info": {
   "codemirror_mode": {
    "name": "ipython",
    "version": 3
   },
   "file_extension": ".py",
   "mimetype": "text/x-python",
   "name": "python",
   "nbconvert_exporter": "python",
   "pygments_lexer": "ipython3",
   "version": "3.9.7"
  }
 },
 "nbformat": 4,
 "nbformat_minor": 5
}
