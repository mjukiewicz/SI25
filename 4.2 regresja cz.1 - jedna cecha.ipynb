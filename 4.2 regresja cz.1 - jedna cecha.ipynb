{
 "cells": [
  {
   "cell_type": "code",
   "execution_count": null,
   "id": "80c24d0d",
   "metadata": {},
   "outputs": [],
   "source": [
    "#wczytaj plik kc_house_data.csv"
   ]
  },
  {
   "cell_type": "code",
   "execution_count": null,
   "id": "a400a222",
   "metadata": {},
   "outputs": [],
   "source": [
    "#wyświetl plik"
   ]
  },
  {
   "cell_type": "code",
   "execution_count": null,
   "id": "b67aadc3",
   "metadata": {},
   "outputs": [],
   "source": [
    "#za pomocą polecenia drop usuń co najmniej kolumny \"id\" oraz \"date\""
   ]
  },
  {
   "cell_type": "code",
   "execution_count": null,
   "id": "b255f5ba",
   "metadata": {},
   "outputs": [],
   "source": [
    "#wyświetl plik i sprawdź, czy kolumny zostały usunięte"
   ]
  },
  {
   "cell_type": "code",
   "execution_count": null,
   "id": "00a2cfba",
   "metadata": {},
   "outputs": [],
   "source": [
    "import numpy as np\n",
    "y = np.asarray(df[[\"price\"]])\n",
    "X = np.asarray(df[[\"sqft_living\"]])"
   ]
  },
  {
   "cell_type": "code",
   "execution_count": null,
   "id": "daef5dd4",
   "metadata": {},
   "outputs": [],
   "source": [
    "#narysuj wykres punktowy (plot) zależności pomiedzy X i y\n",
    "import matplotlib.pyplot as plt\n",
    "# tu coś wstaw - polecenie, które rysuje wykres\n",
    "plt.ylabel(\"price\")\n",
    "plt.xlabel(\"sqft_living\")"
   ]
  },
  {
   "cell_type": "code",
   "execution_count": null,
   "id": "207c9fda",
   "metadata": {},
   "outputs": [],
   "source": [
    "#podziel dana na treningowe i testowe, przyjmij train_size = 0.8\n",
    "from sklearn.model_selection import train_test_split\n"
   ]
  },
  {
   "cell_type": "code",
   "execution_count": null,
   "id": "c6a79ae1",
   "metadata": {},
   "outputs": [],
   "source": [
    "from sklearn.linear_model import LinearRegression\n",
    "\n",
    "model = LinearRegression()\n",
    "model.fit(X_train, y_train)\n",
    "y_pred = model.predict(X_test)"
   ]
  },
  {
   "cell_type": "code",
   "execution_count": null,
   "id": "c15311c2",
   "metadata": {},
   "outputs": [],
   "source": [
    "from sklearn.metrics import mean_squared_error, mean_absolute_error\n",
    "\n",
    "mse = mean_squared_error(y_test, y_pred)\n",
    "mae = mean_absolute_error(y_test, y_pred)\n",
    "print(mse, mae)"
   ]
  },
  {
   "cell_type": "code",
   "execution_count": null,
   "id": "2e4c9875",
   "metadata": {},
   "outputs": [],
   "source": []
  }
 ],
 "metadata": {
  "kernelspec": {
   "display_name": "Python 3 (ipykernel)",
   "language": "python",
   "name": "python3"
  },
  "language_info": {
   "codemirror_mode": {
    "name": "ipython",
    "version": 3
   },
   "file_extension": ".py",
   "mimetype": "text/x-python",
   "name": "python",
   "nbconvert_exporter": "python",
   "pygments_lexer": "ipython3",
   "version": "3.9.7"
  }
 },
 "nbformat": 4,
 "nbformat_minor": 5
}
