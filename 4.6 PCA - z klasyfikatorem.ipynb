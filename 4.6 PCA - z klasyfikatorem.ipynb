{
 "cells": [
  {
   "cell_type": "code",
   "execution_count": null,
   "id": "ed5a564c",
   "metadata": {},
   "outputs": [],
   "source": [
    "import numpy as np\n",
    "import matplotlib.pyplot as plt\n",
    "from sklearn.datasets import load_digits\n",
    "from sklearn.decomposition import PCA\n",
    "from sklearn.model_selection import train_test_split\n",
    "from sklearn.neighbors import KNeighborsClassifier\n",
    "from sklearn.metrics import accuracy_score"
   ]
  },
  {
   "cell_type": "code",
   "execution_count": null,
   "id": "ffbf1b4c",
   "metadata": {},
   "outputs": [],
   "source": [
    "#wczytaj zbiór digits i podziel go na X i y"
   ]
  },
  {
   "cell_type": "code",
   "execution_count": null,
   "id": "8eb5a5ed",
   "metadata": {},
   "outputs": [],
   "source": [
    "#podziel dane na treningowe i testowe"
   ]
  },
  {
   "cell_type": "code",
   "execution_count": null,
   "id": "27523ee3",
   "metadata": {},
   "outputs": [],
   "source": [
    "#PCA wyznaczone dla 5 komponentów\n",
    "pca = PCA(n_components=5) \n",
    "X_train_pca = pca.fit_transform(X_train)\n",
    "X_test_pca = pca.transform(X_test)\n"
   ]
  },
  {
   "cell_type": "code",
   "execution_count": null,
   "id": "4135bc72",
   "metadata": {},
   "outputs": [],
   "source": [
    "#stwórz klasyfikator kNN dla 3 sąsiadów, naucz go na zbiorze X_train_pca i zrób predykcję na X_test_pca"
   ]
  },
  {
   "cell_type": "code",
   "execution_count": null,
   "id": "9b9571fa",
   "metadata": {},
   "outputs": [],
   "source": [
    "#stwórz klasyfikator kNN dla 3 sąsiadów, naucz go na zbiorze X_train i zrób predykcję na X_test"
   ]
  },
  {
   "cell_type": "code",
   "execution_count": null,
   "id": "f7c2eda7",
   "metadata": {},
   "outputs": [],
   "source": [
    "#policz accuracy dla obu klasyfikatorów\n",
    "accuracy_pca = #todo\n",
    "accuracy_full = #todo\n",
    "\n",
    "print(f\"Dokładność klasyfikacji na danych zredukowanych za pomocą PCA: {accuracy_pca:.2f}\")\n",
    "print(f\"Dokładność klasyfikacji na pełnych danych: {accuracy_full:.2f}\")\n"
   ]
  },
  {
   "cell_type": "code",
   "execution_count": null,
   "id": "c997d422",
   "metadata": {},
   "outputs": [],
   "source": [
    "#wykorzystując pętlę for sprawdź skuteczność klasyfikacji za pomocą kNN i PCA dla liczby komponentów od 1 do 64\n",
    "for i in range(1,len(explained_variance)+1):\n",
    "    #todo\n",
    "    print(f\"Dokładność klasyfikacji na danych zredukowanych za pomocą PCA: {accuracy_pca:.2f}, komponentów: {i}\")"
   ]
  },
  {
   "cell_type": "code",
   "execution_count": null,
   "id": "93f78380",
   "metadata": {},
   "outputs": [],
   "source": []
  }
 ],
 "metadata": {
  "kernelspec": {
   "display_name": "Python 3 (ipykernel)",
   "language": "python",
   "name": "python3"
  },
  "language_info": {
   "codemirror_mode": {
    "name": "ipython",
    "version": 3
   },
   "file_extension": ".py",
   "mimetype": "text/x-python",
   "name": "python",
   "nbconvert_exporter": "python",
   "pygments_lexer": "ipython3",
   "version": "3.9.7"
  }
 },
 "nbformat": 4,
 "nbformat_minor": 5
}
