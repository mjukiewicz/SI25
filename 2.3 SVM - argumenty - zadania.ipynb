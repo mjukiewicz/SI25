{
 "cells": [
  {
   "cell_type": "code",
   "execution_count": null,
   "id": "c06b6465",
   "metadata": {},
   "outputs": [],
   "source": [
    "import pandas as pd\n",
    "import numpy as np\n",
    "from sklearn.model_selection import train_test_split\n",
    "from sklearn.svm import SVC\n",
    "from sklearn.metrics import accuracy_score\n",
    "import matplotlib.pyplot as plt\n",
    "\n",
    "#wczytaj plik 'heart.csv'"
   ]
  },
  {
   "cell_type": "code",
   "execution_count": null,
   "id": "a5439cdb",
   "metadata": {},
   "outputs": [],
   "source": [
    "#wyswietl wszystkie dane"
   ]
  },
  {
   "cell_type": "code",
   "execution_count": null,
   "id": "454e4a29",
   "metadata": {},
   "outputs": [],
   "source": [
    "#sprawdz czy zbior jest równoliczny. najłatwiejszym sposobem jest zsumowanie wartości w ostatniej kolumnie"
   ]
  },
  {
   "cell_type": "code",
   "execution_count": null,
   "id": "9b0feec1",
   "metadata": {},
   "outputs": [],
   "source": [
    "data = np.asarray(df)\n",
    "\n",
    "X = data[:,:-1]\n",
    "y =  data[:,-1]"
   ]
  },
  {
   "cell_type": "code",
   "execution_count": null,
   "id": "d8a5a018",
   "metadata": {},
   "outputs": [],
   "source": [
    "#stwórz funkcję classification dla algorytmu SVM. Jej zawartość można skopiować \n",
    "#z  notatników z poprzednich zajęć, ale w taki sposób, aby przyjmowała \n",
    "#kernele i wartość współczynnika c jako argumenty. Powinna zwracać wartość accuracy"
   ]
  },
  {
   "cell_type": "code",
   "execution_count": null,
   "id": "e087256a",
   "metadata": {},
   "outputs": [],
   "source": [
    "results = []\n",
    "kernels = ['linear', 'poly', 'rbf']\n",
    "c_values = #tutaj umieść listę wartości do sprawdzenia\n",
    "for kernel in kernels:\n",
    "    small_list = []\n",
    "    for c_value in c_values:\n",
    "        small_list.append(classification(X,y, kernel, c_value))\n",
    "        print(small_list[-1])\n",
    "    results.append(small_list)\n",
    "            "
   ]
  },
  {
   "cell_type": "code",
   "execution_count": null,
   "id": "b174bdb2",
   "metadata": {},
   "outputs": [],
   "source": [
    "import matplotlib.pyplot as plt\n",
    "\n",
    "for i in range(len(kernels)):\n",
    "    plt.plot(c_values, results[i],label=kernels[i])\n",
    "    plt.xlabel(\"c value\")\n",
    "    plt.ylabel(\"accuracy\")\n",
    "plt.legend()"
   ]
  },
  {
   "cell_type": "code",
   "execution_count": null,
   "id": "cb968e5a",
   "metadata": {},
   "outputs": [],
   "source": []
  }
 ],
 "metadata": {
  "kernelspec": {
   "display_name": "Python 3 (ipykernel)",
   "language": "python",
   "name": "python3"
  },
  "language_info": {
   "codemirror_mode": {
    "name": "ipython",
    "version": 3
   },
   "file_extension": ".py",
   "mimetype": "text/x-python",
   "name": "python",
   "nbconvert_exporter": "python",
   "pygments_lexer": "ipython3",
   "version": "3.9.7"
  }
 },
 "nbformat": 4,
 "nbformat_minor": 5
}
