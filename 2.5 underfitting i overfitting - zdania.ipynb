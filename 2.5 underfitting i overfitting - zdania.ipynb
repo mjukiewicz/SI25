{
 "cells": [
  {
   "cell_type": "code",
   "execution_count": null,
   "id": "c06b6465",
   "metadata": {},
   "outputs": [],
   "source": [
    "import pandas as pd\n",
    "import numpy as np\n",
    "from sklearn.model_selection import train_test_split\n",
    "from sklearn.neighbors import KNeighborsClassifier\n",
    "from sklearn.metrics import accuracy_score\n",
    "import matplotlib.pyplot as plt\n",
    "\n",
    "df = pd.read_csv('heart.csv')"
   ]
  },
  {
   "cell_type": "code",
   "execution_count": null,
   "id": "a5439cdb",
   "metadata": {},
   "outputs": [],
   "source": [
    "df"
   ]
  },
  {
   "cell_type": "code",
   "execution_count": null,
   "id": "9b0feec1",
   "metadata": {},
   "outputs": [],
   "source": [
    "data = np.asarray(df)\n",
    "\n",
    "X = data[:,:-1]\n",
    "y =  data[:,-1]"
   ]
  },
  {
   "cell_type": "code",
   "execution_count": null,
   "id": "d8a5a018",
   "metadata": {},
   "outputs": [],
   "source": [
    "def clasification(X,y, r_state):\n",
    "    X_train, X_test, y_train, y_test = train_test_split(X, y, train_size= 0.8, random_state = r_state)\n",
    "#uzupełnij reszt tak jak zwykle. liczba sąsiadów to 5 "
   ]
  },
  {
   "cell_type": "code",
   "execution_count": null,
   "id": "e087256a",
   "metadata": {},
   "outputs": [],
   "source": [
    "results_train = []\n",
    "results_test = []\n",
    "for i in range(0,50,2):\n",
    "    results = clasification(X,y, i)\n",
    "    results_train.append(results[0])\n",
    "    results_test.append(results[1])\n"
   ]
  },
  {
   "cell_type": "code",
   "execution_count": null,
   "id": "eaaceebd",
   "metadata": {},
   "outputs": [],
   "source": [
    "plt.plot(results_train, label=\"traning\")\n",
    "plt.plot(results_test, label=\"test\")\n",
    "plt.xlabel(\"iteration\")\n",
    "plt.ylabel(\"accuracy\")\n",
    "plt.legend()"
   ]
  },
  {
   "cell_type": "code",
   "execution_count": null,
   "id": "f02b00f1",
   "metadata": {},
   "outputs": [],
   "source": [
    "def clasification(X,y, r_state):\n",
    "    X_train, X_test, y_train, y_test = train_test_split(X, y, train_size= 0.8, random_state = r_state)\n",
    "#uzupełnij reszt tak jak zwykle. liczba sąsiadów to 1 \n",
    "\n",
    "results_train = []\n",
    "results_test = []\n",
    "for i in range(0,50,2):\n",
    "    results = clasification(X,y, i)\n",
    "    results_train.append(results[0])\n",
    "    results_test.append(results[1])\n",
    "    \n",
    "plt.plot(results_train, label=\"traning\")\n",
    "plt.plot(results_test, label=\"test\")\n",
    "plt.xlabel(\"iteration\")\n",
    "plt.ylabel(\"accuracy\")\n",
    "plt.legend()"
   ]
  },
  {
   "cell_type": "code",
   "execution_count": null,
   "id": "56347a9c",
   "metadata": {},
   "outputs": [],
   "source": [
    "def clasification(X,y, r_state):\n",
    "    X_train, X_test, y_train, y_test = train_test_split(X, y, train_size= 0.8, random_state = r_state)\n",
    "#uzupełnij reszt tak jak zwykle. liczba sąsiadów to 225 \n",
    "\n",
    "results_train = []\n",
    "results_test = []\n",
    "for i in range(0,50,2):\n",
    "    results = clasification(X,y, i)\n",
    "    results_train.append(results[0])\n",
    "    results_test.append(results[1])\n",
    "    \n",
    "\n",
    "plt.plot(results_train, label=\"traning\")\n",
    "plt.plot(results_test, label=\"test\")\n",
    "plt.xlabel(\"iteration\")\n",
    "plt.ylabel(\"accuracy\")\n",
    "plt.legend()"
   ]
  },
  {
   "cell_type": "code",
   "execution_count": null,
   "id": "2a5f250c",
   "metadata": {},
   "outputs": [],
   "source": []
  }
 ],
 "metadata": {
  "kernelspec": {
   "display_name": "Python 3 (ipykernel)",
   "language": "python",
   "name": "python3"
  },
  "language_info": {
   "codemirror_mode": {
    "name": "ipython",
    "version": 3
   },
   "file_extension": ".py",
   "mimetype": "text/x-python",
   "name": "python",
   "nbconvert_exporter": "python",
   "pygments_lexer": "ipython3",
   "version": "3.9.7"
  }
 },
 "nbformat": 4,
 "nbformat_minor": 5
}
