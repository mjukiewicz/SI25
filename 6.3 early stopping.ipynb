{
 "cells": [
  {
   "cell_type": "code",
   "execution_count": null,
   "id": "42c14638",
   "metadata": {},
   "outputs": [],
   "source": [
    "import warnings\n",
    "warnings.filterwarnings('ignore')\n",
    "os.environ[\"KMP_DUPLICATE_LIB_OK\"]=\"TRUE\"\n",
    "os.environ['CUDA_VISIBLE_DEVICES'] = '-1'\n",
    "import numpy as np\n",
    "import matplotlib.pyplot as plt\n",
    "from sklearn.model_selection import train_test_split\n",
    "import tensorflow as tf\n",
    "import pandas as pd\n",
    "from sklearn import preprocessing as p\n",
    "from tensorflow.keras import Sequential\n",
    "from tensorflow.keras.layers import Input, Dense\n",
    "\n",
    "#utwórz zmienną EPOCHS i przypisz do niej wartość 10000 lub więcej\n",
    "#wczytaj dane heart\n",
    "#standaryzuj dane\n",
    "#podziel je na dane treningowe i testowe\n"
   ]
  },
  {
   "cell_type": "code",
   "execution_count": null,
   "id": "49952f1e",
   "metadata": {},
   "outputs": [],
   "source": [
    "from tensorflow.keras.callbacks import EarlyStopping\n",
    "#ustawienie monitora wczesnego zatrzymania, monitorujemy wartość loss na zbiorze walidacyjnym\n",
    "es = EarlyStopping(monitor = \"val_loss\", mode = \"min\", patience = 5)"
   ]
  },
  {
   "cell_type": "code",
   "execution_count": null,
   "id": "1c25ec3e",
   "metadata": {},
   "outputs": [],
   "source": [
    "#stwórz model o dwóch warstwach ukrytych (64 i 8). Nadaj modelowi i historii uczenia unikalną nazwę\n",
    "#do polecenia fit dodaj jako argument \"callbacks = [es]\""
   ]
  },
  {
   "cell_type": "code",
   "execution_count": null,
   "id": "e8bb107c",
   "metadata": {},
   "outputs": [],
   "source": [
    "#za pomocą polecenia sublpot z lewej strony wyświetl loss, z prawej accuracy"
   ]
  },
  {
   "cell_type": "code",
   "execution_count": null,
   "id": "c824e8d1",
   "metadata": {},
   "outputs": [],
   "source": [
    "#stwórz model o dwóch warstwach ukrytych (4 i 2). Nadaj modelowi i historii uczenia unikalną nazwę\n",
    "#do polecenia fit dodaj jako argument \"callbacks = [es]\""
   ]
  },
  {
   "cell_type": "code",
   "execution_count": null,
   "id": "3b78966f",
   "metadata": {},
   "outputs": [],
   "source": [
    "#za pomocą polecenia sublpot z lewej strony wyświetl loss, z prawej accuracy"
   ]
  },
  {
   "cell_type": "code",
   "execution_count": null,
   "id": "7a7eb9ba",
   "metadata": {},
   "outputs": [],
   "source": []
  }
 ],
 "metadata": {
  "kernelspec": {
   "display_name": "Python 3 (ipykernel)",
   "language": "python",
   "name": "python3"
  },
  "language_info": {
   "codemirror_mode": {
    "name": "ipython",
    "version": 3
   },
   "file_extension": ".py",
   "mimetype": "text/x-python",
   "name": "python",
   "nbconvert_exporter": "python",
   "pygments_lexer": "ipython3",
   "version": "3.9.7"
  }
 },
 "nbformat": 4,
 "nbformat_minor": 5
}
