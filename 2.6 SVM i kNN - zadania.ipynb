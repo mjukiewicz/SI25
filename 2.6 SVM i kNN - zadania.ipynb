{
 "cells": [
  {
   "cell_type": "code",
   "execution_count": null,
   "id": "678cc597",
   "metadata": {},
   "outputs": [],
   "source": [
    "#Wykorzystująć \"breast cancer dataset\" sprawdź, jaki algorytm najlepiej poradzi sobie \n",
    "#z detekcją nowotworu. Dla SVM sprawdź różne kernele i wartości wspólczynnika C, dla kNN \n",
    "#sprawdź jak zachowuje się dla różnej liczby sąsiadów.\n",
    "\n",
    "# zamiana diagnozy z liter na liczby: df['diagnosis'] = df['diagnosis'].map({'M': 1, 'B': 0})"
   ]
  }
 ],
 "metadata": {
  "kernelspec": {
   "display_name": "Python 3 (ipykernel)",
   "language": "python",
   "name": "python3"
  },
  "language_info": {
   "codemirror_mode": {
    "name": "ipython",
    "version": 3
   },
   "file_extension": ".py",
   "mimetype": "text/x-python",
   "name": "python",
   "nbconvert_exporter": "python",
   "pygments_lexer": "ipython3",
   "version": "3.9.7"
  }
 },
 "nbformat": 4,
 "nbformat_minor": 5
}
